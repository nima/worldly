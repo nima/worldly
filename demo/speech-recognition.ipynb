{
 "cells": [
  {
   "cell_type": "code",
   "execution_count": 1,
   "metadata": {},
   "outputs": [
    {
     "name": "stdout",
     "output_type": "stream",
     "text": [
      "os.environ[\"VIRTUAL_ENV\"]='/Users/nima/.local/share/virtualenvs/worldly-6Xoo3lh0'\n",
      "os.environ[\"PYTHONSTARTUP\"]='.repl.py'\n"
     ]
    }
   ],
   "source": [
    "import json\n",
    "\n",
    "import pandas as pd\n",
    "import numpy as np\n",
    "from IPython.display import display\n",
    "\n",
    "from jsonschema import validate\n",
    "from transformers import AutoModelForCausalLM, AutoTokenizer, Trainer, TrainingArguments\n",
    "import speech_recognition as sr\n",
    "\n",
    "import os, dotenv, sys\n",
    "from pathlib import Path\n",
    "\n",
    "dotenv.load_dotenv(\"../.env\", override=True)\n",
    "print(f\"{os.environ[\"VIRTUAL_ENV\"]=}\")\n",
    "print(f\"{os.environ[\"PYTHONSTARTUP\"]=}\")\n",
    "parent = Path().resolve().parents[0].as_posix()\n",
    "if parent not in sys.path:\n",
    "    sys.path.insert(0, parent)"
   ]
  },
  {
   "cell_type": "code",
   "execution_count": 3,
   "metadata": {},
   "outputs": [
    {
     "name": "stdout",
     "output_type": "stream",
     "text": [
      "You said hello what country is Iran\n"
     ]
    }
   ],
   "source": [
    "import speech_recognition as sr\n",
    "\n",
    "r = sr.Recognizer()\n",
    "with sr.Microphone() as source:  # use the default microphone as the audio source\n",
    "    r.adjust_for_ambient_noise(source)  # listen for 1 second to calibrate the energy threshold for ambient noise levels\n",
    "    audio = r.listen(\n",
    "        source\n",
    "    )  # now when we listen, the energy threshold is already set to a good value, and we can reliably catch speech right away\n",
    "\n",
    "try:\n",
    "    print(\"You said \" + r.recognize_google(audio))  # recognize speech using Google Speech Recognition\n",
    "except LookupError:  # speech is unintelligible\n",
    "    print(\"Could not understand audio\")"
   ]
  }
 ],
 "metadata": {
  "kernelspec": {
   "display_name": ".venv",
   "language": "python",
   "name": "python3"
  },
  "language_info": {
   "codemirror_mode": {
    "name": "ipython",
    "version": 3
   },
   "file_extension": ".py",
   "mimetype": "text/x-python",
   "name": "python",
   "nbconvert_exporter": "python",
   "pygments_lexer": "ipython3",
   "version": "3.12.3"
  }
 },
 "nbformat": 4,
 "nbformat_minor": 2
}
